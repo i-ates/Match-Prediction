{
 "cells": [
  {
   "cell_type": "code",
   "execution_count": 1,
   "id": "a5a1c198",
   "metadata": {},
   "outputs": [],
   "source": [
    "import pandas as pd\n",
    "from sklearn.ensemble import RandomForestClassifier\n",
    "from sklearn.model_selection import train_test_split\n",
    "\n",
    "data = pd.read_excel(\"mackolik_2017_2018.xls\", index_col=0)\n",
    "data[['ScoreHT', 'ScoreAT']] = data.Skor.str.split(\" - \", expand=True, )\n",
    "data[\"ScoreHT\"] = data[\"ScoreHT\"].apply(pd.to_numeric)\n",
    "data[\"ScoreAT\"] = data[\"ScoreAT\"].apply(pd.to_numeric)\n",
    "data[\"WDL\"] = data[\"ScoreHT\"] - data[\"ScoreAT\"]"
   ]
  },
  {
   "cell_type": "code",
   "execution_count": 2,
   "id": "ab4ca279",
   "metadata": {},
   "outputs": [],
   "source": [
    "def encode1(x):\n",
    "    if x > 0:\n",
    "        return 1\n",
    "    elif x < 0:\n",
    "        return 2\n",
    "    else:\n",
    "        return 0"
   ]
  },
  {
   "cell_type": "code",
   "execution_count": 3,
   "id": "674fd82f",
   "metadata": {},
   "outputs": [],
   "source": [
    "data[\"WDL\"] = data.apply(lambda x: encode1(x[\"WDL\"]), axis=1)\n",
    "\n",
    "data.drop(labels=[\"ScoreHT\", \"ScoreAT\", \"Skor\"], axis=1, inplace=True)"
   ]
  },
  {
   "cell_type": "code",
   "execution_count": 4,
   "id": "39997444",
   "metadata": {},
   "outputs": [],
   "source": [
    "def fonksiyon(data, takim1, takim2, feat1, feat2):\n",
    "    dataT1H = data.loc[data['Home Team'].str.startswith(takim1), [\"Home Team\", \"Away Team\", feat1, feat2]]\n",
    "    dataT1A = data.loc[data['Away Team'].str.startswith(takim1), [\"Home Team\", \"Away Team\", feat1, feat2]]\n",
    "    dataT2H = data.loc[data['Home Team'].str.startswith(takim2), [\"Home Team\", \"Away Team\", feat1, feat2]]\n",
    "    dataT2A = data.loc[data['Away Team'].str.startswith(takim2), [\"Home Team\", \"Away Team\", feat1, feat2]]\n",
    "\n",
    "    lengthT1H = dataT1H[feat1].shape[0]\n",
    "    lengthT1A = dataT1A[feat2].shape[0]\n",
    "    lengthT2H = dataT2H[feat1].shape[0]\n",
    "    lengthT2A = dataT2A[feat2].shape[0]\n",
    "\n",
    "    ortT1HG = dataT1H[feat1].mean()  # takim1 home team ortalama *6\n",
    "    ortT1AG = dataT1A[feat2].mean()  # takim1 away team ortalama *5\n",
    "\n",
    "    ortT2HG = dataT2H[feat1].mean()  # takim2 home team ortalama *6\n",
    "    ortT2AG = dataT2A[feat2].mean()  # takim2 away team ortalama *5\n",
    "\n",
    "    ortT1H3 = dataT1H[feat1][lengthT1H - 3:lengthT1H].mean()  # takim1 home team ortalama son 3 maç *10\n",
    "    ortT1H5 = dataT1H[feat1][lengthT1H - 5:lengthT1H].mean()  # takim1 home team ortalama son 5 maç *9\n",
    "    ortT1H8 = dataT1H[feat1][lengthT1H - 8:lengthT1H].mean()  # takim1 home team ortalama son 8 maç *8\n",
    "    ortT1H10 = dataT1H[feat1][lengthT1H - 10:lengthT1H].mean()  # takim1 home team ortalama son 10 maç*7\n",
    "\n",
    "    ortT2H3 = dataT2H[feat1][lengthT2H - 3:lengthT2H].mean()  # takim2 home team ortalama son 3 maç *10\n",
    "    ortT2H5 = dataT2H[feat1][lengthT2H - 5:lengthT2H].mean()  # takim2 home team ortalama son 5 maç *9\n",
    "    ortT2H8 = dataT2H[feat1][lengthT2H - 8:lengthT2H].mean()  # takim2 home team ortalama son 8 maç *8\n",
    "    ortT2H10 = dataT2H[feat1][lengthT2H - 10:lengthT2H].mean()  # takim2 home team ortalama son 10 maç*7\n",
    "\n",
    "    ortT1A3 = dataT1A[feat2][lengthT1A - 3:lengthT1A].mean()  # takim1 away team ortalama son 3 maç *9\n",
    "    ortT1A5 = dataT1A[feat2][lengthT1A - 5:lengthT1A].mean()  # takim1 away team ortalama son 5 maç *8\n",
    "    ortT1A8 = dataT1A[feat2][lengthT1A - 8:lengthT1A].mean()  # takim1 away team ortalama son 8 maç *7\n",
    "    ortT1A10 = dataT1A[feat2][lengthT1A - 10:lengthT1A].mean()  # takim1 away team ortalama son 10 maç*6\n",
    "\n",
    "    ortT2A3 = dataT2A[feat2][lengthT2A - 3:lengthT2A].mean()  # takim2 away team ortalama son 3 maç *9\n",
    "    ortT2A5 = dataT2A[feat2][lengthT2A - 5:lengthT2A].mean()  # takim2 away team ortalama son 5 maç *8\n",
    "    ortT2A8 = dataT2A[feat2][lengthT2A - 8:lengthT2A].mean()  # takim2 away team ortalama son 8 maç *7\n",
    "    ortT2A10 = dataT2A[feat2][lengthT2A - 10:lengthT2A].mean()  # takim2 away team ortalama son 10 maç*6\n",
    "\n",
    "    listT1 = [ortT1HG, ortT1AG, ortT1H3, ortT1H5, ortT1H8, ortT1H10, ortT1A3, ortT1A5, ortT1A8, ortT1A10]\n",
    "    listT2 = [ortT2HG, ortT2AG, ortT2H3, ortT2H5, ortT2H8, ortT2H10, ortT2A3, ortT2A5, ortT2A8, ortT2A10]\n",
    "    return listT1, listT2"
   ]
  },
  {
   "cell_type": "code",
   "execution_count": 5,
   "id": "823efae0",
   "metadata": {},
   "outputs": [],
   "source": [
    "def dataFrameMaker(data, featureList, result):\n",
    "    columns = [\"ortT1HG\", \"ortT1AG\", \"ortT1H3\", \"ortT1H5\", \"ortT1H8\", \"ortT1H10\", \"ortT1A3\",\n",
    "               \"ortT1A5\", \"ortT1A8\", \"ortT1A10\"]\n",
    "    x = []\n",
    "    for i in featureList:\n",
    "        for y in i:\n",
    "            for j in columns:\n",
    "                x.append(y + j)\n",
    "\n",
    "    x.append(\"result\")\n",
    "    dataToplaOynamaT1 = pd.DataFrame(columns=x)\n",
    "\n",
    "    counter = 0\n",
    "    data2 = data.copy()\n",
    "    for y in range(data2.shape[0], 312, -1):\n",
    "        listResult = []\n",
    "        for i in featureList:\n",
    "            listT1, listT2 = fonksiyon(data2, data2.loc[y][\"Home Team\"], data2.loc[y][\"Away Team\"], i[0], i[1])\n",
    "            listResult = listResult + listT1 + listT2\n",
    "\n",
    "        listResult.append(data2.loc[y][result])\n",
    "        dataToplaOynamaT1.loc[counter] = listResult\n",
    "        counter += 1\n",
    "        data2.drop(y, inplace=True)\n",
    "\n",
    "    return dataToplaOynamaT1"
   ]
  },
  {
   "cell_type": "code",
   "execution_count": 6,
   "id": "32214ef4",
   "metadata": {},
   "outputs": [],
   "source": [
    "toplaOynamaHT = [[\"Topla OynamaHT\", \"Topla OynamaAT\"], [\"OrtaHT\", \"OrtaAT\"], [\"İsabetli ŞutHT\", \"İsabetli ŞutAT\"],\n",
    "                 [\"Ceza Sahası Dışından ŞutHT\", \"Ceza Sahası Dışından ŞutAT\"], [\"ŞutHT\", \"ŞutAT\"],\n",
    "                 [\"UzaklaştırmaHT\", \"UzaklaştırmaAT\"], [\"Pas ArasıHT\", \"Pas ArasıAT\"], [\"KornerHT\", \"KornerAT\"],\n",
    "                 [\"Rakip Yarı Sahada Pas İsabetiHT\", \"Rakip Yarı Sahada Pas İsabetiAT\"],\n",
    "                 [\"Pas İsabetiHT\", \"Pas İsabetiAT\"]]\n",
    "dataFinalToplaOynamaHT = dataFrameMaker(data, toplaOynamaHT, \"Topla OynamaHT\")"
   ]
  },
  {
   "cell_type": "code",
   "execution_count": 7,
   "id": "9fa1f13f",
   "metadata": {},
   "outputs": [],
   "source": [
    "toplaOynamaAT = [[\"Topla OynamaAT\", \"Topla OynamaHT\"], [\"OrtaAT\", \"OrtaHT\"], [\"İsabetli ŞutAT\", \"İsabetli ŞutHT\"],\n",
    "                 [\"Ceza Sahası Dışından ŞutAT\", \"Ceza Sahası Dışından ŞutHT\"], [\"ŞutAT\", \"ŞutHT\"],\n",
    "                 [\"UzaklaştırmaAT\", \"UzaklaştırmaHT\"], [\"Pas ArasıAT\", \"Pas ArasıHT\"], [\"KornerAT\", \"KornerHT\"],\n",
    "                 [\"Rakip Yarı Sahada Pas İsabetiAT\", \"Rakip Yarı Sahada Pas İsabetiHT\"],\n",
    "                 [\"Pas İsabetiAT\", \"Pas İsabetiHT\"]]\n",
    "dataFinalToplaOynamaAT = dataFrameMaker(data, toplaOynamaAT, \"Topla OynamaHT\")"
   ]
  },
  {
   "cell_type": "code",
   "execution_count": 8,
   "id": "9228ac56",
   "metadata": {},
   "outputs": [],
   "source": [
    "ikiliMücadeleHT = [[\"İkili Mücadele KazanmaHT\", \"İkili Mücadele KazanmaAT\"], [\"Topla OynamaHT\", \"Topla OynamaAT\"],\n",
    "                   [\"Hava TopuHT\", \"Hava TopuAT\"],\n",
    "                   [\"Rakip Yarı Sahada Pas İsabetiHT\", \"Rakip Yarı Sahada Pas İsabetiAT\"],\n",
    "                   [\"FaulHT\", \"FaulAT\"], [\"ŞutHT\", \"ŞutAT\"], [\"İsabetli ŞutHT\", \"İsabetli ŞutAT\"],\n",
    "                   [\"Orta İsabetiHT\", \"Orta İsabetiAT\"]]\n",
    "dataFinalİkiliMücadeleHT = dataFrameMaker(data, ikiliMücadeleHT, \"İkili Mücadele KazanmaHT\")\n"
   ]
  },
  {
   "cell_type": "code",
   "execution_count": 9,
   "id": "7b8d7005",
   "metadata": {},
   "outputs": [],
   "source": [
    "ikiliMücadeleAT = [[\"İkili Mücadele KazanmaAT\", \"İkili Mücadele KazanmaHT\"], [\"Topla OynamaAT\", \"Topla OynamaHT\"],\n",
    "                   [\"Hava TopuAT\", \"Hava TopuHT\"],\n",
    "                   [\"Rakip Yarı Sahada Pas İsabetiAT\", \"Rakip Yarı Sahada Pas İsabetiHT\"],\n",
    "                   [\"FaulAT\", \"FaulHT\"], [\"ŞutAT\", \"ŞutHT\"], [\"İsabetli ŞutAT\", \"İsabetli ŞutHT\"],\n",
    "                   [\"Orta İsabetiAT\", \"Orta İsabetiHT\"]]\n",
    "dataFinalİkiliMücadeleAT = dataFrameMaker(data, ikiliMücadeleAT, \"İkili Mücadele KazanmaAT\")\n"
   ]
  },
  {
   "cell_type": "code",
   "execution_count": 10,
   "id": "ae223e59",
   "metadata": {},
   "outputs": [],
   "source": [
    "havaTopuHT = [[\"Hava TopuHT\", \"Hava TopuAT\"], [\"Topla OynamaHT\", \"Topla OynamaAT\"],\n",
    "              [\"İkili Mücadele KazanmaHT\", \"İkili Mücadele KazanmaAT\"], [\"Pas İsabetiHT\", \"Pas İsabetiAT\"],\n",
    "              [\"ŞutHT\", \"ŞutAT\"], [\"İsabetli ŞutHT\", \"İsabetli ŞutAT\"]]\n",
    "dataFinalHavaTopuHT = dataFrameMaker(data, havaTopuHT, \"Hava TopuHT\")\n"
   ]
  },
  {
   "cell_type": "code",
   "execution_count": 11,
   "id": "c7653b86",
   "metadata": {},
   "outputs": [],
   "source": [
    "havaTopuAT = [[\"Hava TopuAT\", \"Hava TopuHT\"], [\"Topla OynamaAT\", \"Topla OynamaHT\"],\n",
    "              [\"İkili Mücadele KazanmaAT\", \"İkili Mücadele KazanmaHT\"], [\"Pas İsabetiAT\", \"Pas İsabetiHT\"],\n",
    "              [\"ŞutAT\", \"ŞutHT\"], [\"İsabetli ŞutAT\", \"İsabetli ŞutHT\"]]\n",
    "dataFinalHavaTopuAT = dataFrameMaker(data, havaTopuAT, \"Hava TopuAT\")\n"
   ]
  },
  {
   "cell_type": "code",
   "execution_count": 12,
   "id": "4190896b",
   "metadata": {},
   "outputs": [],
   "source": [
    "pasİsabetiHT = [[\"Pas İsabetiHT\", \"Pas İsabetiAT\"], [\"OrtaHT\", \"OrtaAT\"], [\"İsabetli ŞutHT\", \"İsabetli ŞutAT\"],\n",
    "                [\"Ceza Sahası Dışından ŞutHT\", \"Ceza Sahası Dışından ŞutAT\"], [\"ŞutHT\", \"ŞutAT\"],\n",
    "                [\"Topla OynamaHT\", \"Topla OynamaAT\"], [\"OrtaHT\", \"OrtaAT\"], [\"Kırmızı KartHT\", \"Kırmızı KartAT\"],\n",
    "                [\"Rakip Yarı Sahada Pas İsabetiHT\", \"Rakip Yarı Sahada Pas İsabetiAT\"],\n",
    "                [\"Hava TopuHT\", \"Hava TopuAT\"]]\n",
    "dataFinalPasİsabetiHT = dataFrameMaker(data, pasİsabetiHT, \"Pas İsabetiHT\")\n"
   ]
  },
  {
   "cell_type": "code",
   "execution_count": 13,
   "id": "04d553aa",
   "metadata": {},
   "outputs": [],
   "source": [
    "pasİsabetiAT = [[\"Pas İsabetiAT\", \"Pas İsabetiHT\"], [\"OrtaAT\", \"OrtaHT\"], [\"İsabetli ŞutAT\", \"İsabetli ŞutHT\"],\n",
    "                [\"Ceza Sahası Dışından ŞutAT\", \"Ceza Sahası Dışından ŞutHT\"], [\"ŞutAT\", \"ŞutHT\"],\n",
    "                [\"Topla OynamaAT\", \"Topla OynamaHT\"], [\"OrtaAT\", \"OrtaHT\"], [\"Kırmızı KartAT\", \"Kırmızı KartHT\"],\n",
    "                [\"Rakip Yarı Sahada Pas İsabetiAT\", \"Rakip Yarı Sahada Pas İsabetiHT\"],\n",
    "                [\"Hava TopuAT\", \"Hava TopuHT\"]]\n",
    "dataFinalPasİsabetiAT = dataFrameMaker(data, pasİsabetiAT, \"Pas İsabetiAT\")\n",
    "\n"
   ]
  },
  {
   "cell_type": "code",
   "execution_count": 14,
   "id": "a8ba6ddb",
   "metadata": {},
   "outputs": [],
   "source": [
    "rakipYarıSahadaPasİsabetiHT = [[\"Rakip Yarı Sahada Pas İsabetiHT\", \"Rakip Yarı Sahada Pas İsabetiAT\"],\n",
    "                               [\"OrtaHT\", \"OrtaAT\"], [\"İsabetli ŞutHT\", \"İsabetli ŞutAT\"],\n",
    "                               [\"Ceza Sahası Dışından ŞutHT\", \"Ceza Sahası Dışından ŞutAT\"], [\"ŞutHT\", \"ŞutAT\"],\n",
    "                               [\"Kırmızı KartHT\", \"Kırmızı KartAT\"], [\"Orta İsabetiHT\", \"Orta İsabetiAT\"],\n",
    "                               [\"Pas İsabetiHT\", \"Pas İsabetiAT\"], [\"Topla OynamaHT\", \"Topla OynamaAT\"],\n",
    "                               [\"Hava TopuHT\", \"Hava TopuAT\"], [\"İkili Mücadele KazanmaHT\", \"İkili Mücadele KazanmaAT\"]]\n",
    "dataFinalRakipYarıSahadaPasİsabetiHT = dataFrameMaker(data, rakipYarıSahadaPasİsabetiHT, \"Rakip Yarı Sahada Pas İsabetiHT\")\n",
    "\n"
   ]
  },
  {
   "cell_type": "code",
   "execution_count": 15,
   "id": "34040cc4",
   "metadata": {},
   "outputs": [],
   "source": [
    "# kornerAT = [[\"KornerAT\", \"KornerHT\"], [\"OrtaAT\", \"OrtHT\"], [\"İsabetli ŞutAT\", \"İsabetli ŞutHT\"],\n",
    "#             [\"Ceza Sahası Dışından ŞutAT\", \"Ceza Sahası Dışından ŞutHT\"], [\"ŞutAT\", \"ŞutHT\"],\n",
    "#             [\"Rakip Yarı Sahada Pas İsabetiAT\", \"Rakip Yarı Sahada Pas İsabetiHT\"],  # isoya sorulup atılacak\n",
    "#             [\"Pas İsabetiAT\", \"Pas İsabetiHT\"], [\"Topla OynamaAT\", \"Topla OynamaHT\"]]\n",
    "# dataFinalKornerAT = dataFrameMaker(data, kornerAT, \"KornerAT\")\n",
    "\n"
   ]
  },
  {
   "cell_type": "code",
   "execution_count": 16,
   "id": "d8df6816",
   "metadata": {},
   "outputs": [],
   "source": [
    "uzaklaştırmaAT = [[\"UzaklaştırmaAT\", \"UzaklaştırmaHT\"], [\"OrtaAT\", \"OrtaHT\"],\n",
    "                  [\"Ceza Sahası Dışından ŞutAT\", \"Ceza Sahası Dışından ŞutHT\"], [\"ŞutAT\", \"ŞutHT\"],\n",
    "                  [\"Sarı KartAT\", \"Sarı KartHT\"], [\"FaulAT\", \"FaulHT\"], [\"Pas ArasıAT\", \"Pas ArasıHT\"],\n",
    "                  # mape yüksek çıkıyor\n",
    "                  [\"KornerAT\", \"KornerHT\"], [\"Topla OynamaAT\", \"Topla OynamaHT\"]]\n",
    "dataFinalUzaklaştırmaAT = dataFrameMaker(data, uzaklaştırmaAT, \"UzaklaştırmaAT\")\n"
   ]
  },
  {
   "cell_type": "code",
   "execution_count": 17,
   "id": "5a66039d",
   "metadata": {},
   "outputs": [],
   "source": [
    "uzaklaştırmaHT = [[\"UzaklaştırmaHT\", \"UzaklaştırmaAT\"], [\"OrtaHT\", \"OrtaAT\"],\n",
    "                  [\"Ceza Sahası Dışından ŞutHT\", \"Ceza Sahası Dışından ŞutAT\"], [\"ŞutHT\", \"ŞutAT\"],\n",
    "                  [\"Sarı KartHT\", \"Sarı KartAT\"], [\"FaulHT\", \"FaulAT\"], [\"Pas ArasıHT\", \"Pas ArasıAT\"],\n",
    "                  # mape yüksek çıkıyor\n",
    "                  [\"KornerHT\", \"KornerAT\"], [\"Topla OynamaHT\", \"Topla OynamaAT\"]]  # 0.57\n",
    "dataFinalUzaklaştırmaHT = dataFrameMaker(data, uzaklaştırmaHT, \"UzaklaştırmaHT\")\n"
   ]
  },
  {
   "cell_type": "code",
   "execution_count": 18,
   "id": "e8016d24",
   "metadata": {},
   "outputs": [],
   "source": [
    "\n",
    "topKapmaBaşarısıAT = [[\"Top Kapma BaşarısıAT\", \"Top Kapma BaşarısıHT\"], [\"Pas ArasıAT\", \"Pas ArasıHT\"],\n",
    "                      [\"UzaklaştırmaAT\", \"UzaklaştırmaHT\"], [\"OrtaAT\", \"OrtaHT\"]]\n",
    "dataFinalTopKapmaBaşarısıAT = dataFrameMaker(data, topKapmaBaşarısıAT, \"Top Kapma BaşarısıAT\")\n",
    "\n"
   ]
  },
  {
   "cell_type": "code",
   "execution_count": 19,
   "id": "5bd95bac",
   "metadata": {},
   "outputs": [],
   "source": [
    "topKapmaBaşarısıHT = [[\"Top Kapma BaşarısıHT\", \"Top Kapma BaşarısıAT\"], [\"Pas ArasıHT\", \"Pas ArasıAT\"],\n",
    "                      [\"UzaklaştırmaHT\", \"UzaklaştırmaAT\"], [\"OrtaHT\", \"OrtaAT\"]]\n",
    "dataFinalTopKapmaBaşarısıHT = dataFrameMaker(data, topKapmaBaşarısıHT, \"Top Kapma BaşarısıHT\")\n",
    "\n"
   ]
  },
  {
   "cell_type": "code",
   "execution_count": 20,
   "id": "7ac20783",
   "metadata": {},
   "outputs": [],
   "source": [
    "rakipYarıSahadaPasİsabetiAT = [[\"Rakip Yarı Sahada Pas İsabetiAT\", \"Rakip Yarı Sahada Pas İsabetiHT\"],\n",
    "                               [\"OrtaAT\", \"OrtaHT\"], [\"İsabetli ŞutAT\", \"İsabetli ŞutHT\"],\n",
    "                               [\"Ceza Sahası Dışından ŞutAT\", \"Ceza Sahası Dışından ŞutHT\"], [\"ŞutAT\", \"ŞutHT\"],\n",
    "                               [\"Kırmızı KartAT\", \"Kırmızı KartHT\"], [\"Orta İsabetiAT\", \"Orta İsabetiHT\"],\n",
    "                               [\"Pas İsabetiAT\", \"Pas İsabetiHT\"], [\"Topla OynamaAT\", \"Topla OynamaHT\"],\n",
    "                               [\"Hava TopuAT\", \"Hava TopuHT\"], [\"İkili Mücadele KazanmaAT\", \"İkili Mücadele KazanmaHT\"]]\n",
    "dataFinalRakipYarıSahadaPasİsabetiAT = dataFrameMaker(data, rakipYarıSahadaPasİsabetiAT, \"Rakip Yarı Sahada Pas İsabetiAT\")\n"
   ]
  },
  {
   "cell_type": "code",
   "execution_count": 21,
   "id": "b0bedaf5",
   "metadata": {},
   "outputs": [],
   "source": [
    "isabetliŞutAT = [[\"İsabetli ŞutAT\", \"İsabetli ŞutHT\"], [\"Orta İsabetiAT\", \"Orta İsabetiHT\"],\n",
    "                 [\"OrtaAT\", \"OrtaHT\"], [\"ŞutAT\", \"ŞutHT\"], [\"Topla OynamaAT\", \"Topla OynamaHT\"],\n",
    "                 [\"Ceza Sahası Dışından ŞutAT\", \"Ceza Sahası Dışından ŞutHT\"],\n",
    "                 [\"Rakip Yarı Sahada Pas İsabetiAT\", \"Rakip Yarı Sahada Pas İsabetiHT\"],  # y_test y_pred ters 0.50\n",
    "                 [\"KornerAT\", \"KornerHT\"], [\"Pas İsabetiAT\", \"Pas İsabetiHT\"],\n",
    "                 [\"Hava TopuAT\", \"Hava TopuHT\"], [\"İkili Mücadele KazanmaAT\", \"İkili Mücadele KazanmaHT\"]]\n",
    "dataFinalİsabetliŞutAT = dataFrameMaker(data, isabetliŞutAT, \"İsabetli ŞutAT\")\n",
    "\n"
   ]
  },
  {
   "cell_type": "code",
   "execution_count": 22,
   "id": "411f2d01",
   "metadata": {},
   "outputs": [],
   "source": [
    "ortaHT = [[\"OrtaHT\", \"OrtaAT\"], [\"İsabetli ŞutHT\", \"İsabetli ŞutAT\"], [\"ŞutHT\", \"ŞutAT\"],\n",
    "          [\"Ceza Sahası Dışından ŞutHT\", \"Ceza Sahası Dışından ŞutAT\"],\n",
    "          [\"UzaklaştırmaHT\", \"UzaklaştırmaAT\"], [\"KornerHT\", \"KornerAT\"],  # 0.42\n",
    "          [\"Rakip Yarı Sahada Pas İsabetiAT\", \"Rakip Yarı Sahada Pas İsabetiHT\"],\n",
    "          [\"Topla OynamaHT\", \"Topla OynamaAT\"], [\"Pas İsabetiHT\", \"Pas İsabetiAT\"]]\n",
    "dataFinalOrtaHT = dataFrameMaker(data, ortaHT, \"OrtaHT\")\n"
   ]
  },
  {
   "cell_type": "code",
   "execution_count": 23,
   "id": "991b44cd",
   "metadata": {},
   "outputs": [],
   "source": [
    "şutHT = [[\"ŞutHT\", \"ŞutAT\"], [\"Orta İsabetiHT\", \"Orta İsabetiAT\"], [\"OrtaAT\", \"OrtaHT\"],\n",
    "         [\"İsabetli ŞutHT\", \"İsabetli ŞutAT\"], [\"Ceza Sahası Dışından ŞutHT\", \"Ceza Sahası Dışından ŞutAT\"],\n",
    "         [\"Rakip Yarı Sahada Pas İsabetiHT\", \"Rakip Yarı Sahada Pas İsabetiAT\"], [\"UzaklaştırmaHT\", \"UzaklaştırmaAT\"],\n",
    "         [\"KornerHT\", \"KornerAT\"], [\"Pas İsabetiHT\", \"Pas İsabetiAT\"], [\"Topla OynamaHT\", \"Topla OynamaAT\"],\n",
    "         [\"Hava TopuHT\", \"Hava TopuAT\"], [\"İkili Mücadele KazanmaHT\", \"İkili Mücadele KazanmaAT\"]]\n",
    "dataFinalŞutHT = dataFrameMaker(data, şutHT, \"ŞutHT\")\n"
   ]
  },
  {
   "cell_type": "code",
   "execution_count": 24,
   "id": "8d9bc581",
   "metadata": {},
   "outputs": [],
   "source": [
    "faulAT = [[\"FaulAT\", \"FaulHT\"], [\"İkili Mücadele KazanmaAT\", \"İkili Mücadele KazanmaHT\"],\n",
    "          [\"UzaklaştırmaAT\", \"UzaklaştırmaHT\"]]\n",
    "dataFinalFaulAT = dataFrameMaker(data, faulAT, \"FaulAT\")\n"
   ]
  },
  {
   "cell_type": "code",
   "execution_count": 25,
   "id": "6576f803",
   "metadata": {},
   "outputs": [],
   "source": [
    "\n",
    "faulHT = [[\"FaulHT\", \"FaulAT\"], [\"İkili Mücadele KazanmaHT\", \"İkili Mücadele KazanmaAT\"],\n",
    "          [\"UzaklaştırmaHT\", \"UzaklaştırmaAT\"]]\n",
    "dataFinalFaulHT = dataFrameMaker(data, faulHT, \"FaulHT\")\n"
   ]
  },
  {
   "cell_type": "code",
   "execution_count": 26,
   "id": "26cc6b57",
   "metadata": {},
   "outputs": [],
   "source": [
    "pasArasıAT = [[\"Pas ArasıAT\", \"Pas ArasıHT\"], [\"OrtaAT\", \"OrtaHT\"],\n",
    "              [\"İsabetli ŞutAT\", \"İsabetli ŞutHT\"], [\"FaulAT\", \"FaulHT\"],\n",
    "              [\"UzaklaştırmaAT\", \"UzaklaştırmaHT\"], [\"Top Kapma BaşarısıAT\", \"Top Kapma BaşarısıHT\"],\n",
    "              # mape yüksek çıkıyor\n",
    "              [\"Topla OynamaAT\", \"Topla OynamaHT\"]]\n",
    "dataFinalPasArasıAT = dataFrameMaker(data, pasArasıAT, \"Pas ArasıAT\")\n"
   ]
  },
  {
   "cell_type": "code",
   "execution_count": 27,
   "id": "d5d83c2e",
   "metadata": {},
   "outputs": [],
   "source": [
    "\n",
    "pasArasıHT = [[\"Pas ArasıHT\", \"Pas ArasıAT\"], [\"OrtaHT\", \"OrtaAT\"],\n",
    "              [\"İsabetli ŞutHT\", \"İsabetli ŞutAT\"], [\"FaulHT\", \"FaulAT\"],\n",
    "              [\"UzaklaştırmaAT\", \"UzaklaştırmaHT\"], [\"Top Kapma BaşarısıAT\", \"Top Kapma BaşarısıHT\"],\n",
    "              # mape yüksek çıkıyor\n",
    "              [\"Topla OynamaHT\", \"Topla OynamaAT\"]]\n",
    "dataFinalPasArasıHT = dataFrameMaker(data, pasArasıHT, \"Pas ArasıHT\")\n"
   ]
  },
  {
   "cell_type": "code",
   "execution_count": 28,
   "id": "2dd0bcab",
   "metadata": {},
   "outputs": [],
   "source": [
    "isabetliŞutHT = [[\"İsabetli ŞutHT\", \"İsabetli ŞutAT\"], [\"Orta İsabetiHT\", \"Orta İsabetiAT\"],\n",
    "                 [\"OrtaHT\", \"OrtaAT\"], [\"ŞutHT\", \"ŞutAT\"], [\"Topla OynamaHT\", \"Topla OynamaAT\"],\n",
    "                 [\"Ceza Sahası Dışından ŞutHT\", \"Ceza Sahası Dışından ŞutAT\"],\n",
    "                 [\"Rakip Yarı Sahada Pas İsabetiAT\", \"Rakip Yarı Sahada Pas İsabetiHT\"],  # y_test y_pred ters 0.46\n",
    "                 [\"KornerHT\", \"KornerAT\"], [\"Pas İsabetiHT\", \"Pas İsabetiAT\"],\n",
    "                 [\"Hava TopuHT\", \"Hava TopuAT\"], [\"İkili Mücadele KazanmaHT\", \"İkili Mücadele KazanmaAT\"]]\n",
    "dataFinalİsabetliŞutHT = dataFrameMaker(data, isabetliŞutHT, \"İsabetli ŞutHT\")\n"
   ]
  },
  {
   "cell_type": "code",
   "execution_count": 29,
   "id": "21fb70ff",
   "metadata": {},
   "outputs": [],
   "source": [
    "cezaSahasıDışındanŞutAT = [[\"Ceza Sahası Dışından ŞutAT\", \"Ceza Sahası Dışından ŞutHT\"], [\"OrtaAT\", \"OrtaHT\"],\n",
    "                           [\"İsabetli ŞutAT\", \"İsabetli ŞutHT\"], [\"ŞutAT\", \"ŞutHT\"],\n",
    "                           [\"UzaklaştırmaAT\", \"UzaklaştırmaHT\"],  # 0.61\n",
    "                           [\"KornerAT\", \"KornerHT\"],\n",
    "                           [\"Rakip Yarı Sahada Pas İsabetiAT\", \"Rakip Yarı Sahada Pas İsabetiHT\"],\n",
    "                           [\"Pas İsabetiAT\", \"Pas İsabetiHT\"], [\"Topla OynamaAT\", \"Topla OynamaHT\"], ]\n",
    "\n",
    "dataFinalCezaSahasıDışındanŞutAT = dataFrameMaker(data, cezaSahasıDışındanŞutAT, \"Ceza Sahası Dışından ŞutAT\")\n"
   ]
  },
  {
   "cell_type": "code",
   "execution_count": 30,
   "id": "2c643576",
   "metadata": {},
   "outputs": [],
   "source": [
    "cezaSahasıDışındanŞutHT = [[\"Ceza Sahası Dışından ŞutHT\", \"Ceza Sahası Dışından ŞutAT\"], [\"OrtaHT\", \"OrtaAT\"],\n",
    "                           [\"İsabetli ŞutHT\", \"İsabetli ŞutAT\"], [\"ŞutHT\", \"ŞutAT\"],\n",
    "                           [\"UzaklaştırmaHT\", \"UzaklaştırmaAT\"],  # mean yüksek\n",
    "                           [\"KornerHT\", \"KornerAT\"],\n",
    "                           [\"Rakip Yarı Sahada Pas İsabetiAT\", \"Rakip Yarı Sahada Pas İsabetiHT\"],  # 0.50\n",
    "                           [\"Pas İsabetiHT\", \"Pas İsabetiAT\"], [\"Topla OynamaHT\", \"Topla OynamaAT\"], ]\n",
    "\n",
    "dataFinalCezaSahasıDışındanŞutHT = dataFrameMaker(data, cezaSahasıDışındanŞutHT, \"Ceza Sahası Dışından ŞutHT\")\n"
   ]
  },
  {
   "cell_type": "code",
   "execution_count": 31,
   "id": "c0f24970",
   "metadata": {},
   "outputs": [],
   "source": [
    "şutAT = [[\"ŞutAT\", \"ŞutHT\"], [\"Orta İsabetiAT\", \"Orta İsabetiHT\"], [\"OrtaAT\", \"OrtaHT\"],\n",
    "         [\"İsabetli ŞutAT\", \"İsabetli ŞutHT\"], [\"Ceza Sahası Dışından ŞutAT\", \"Ceza Sahası Dışından ŞutHT\"],\n",
    "         [\"Rakip Yarı Sahada Pas İsabetiAT\", \"Rakip Yarı Sahada Pas İsabetiHT\"], [\"UzaklaştırmaAT\", \"UzaklaştırmaHT\"],\n",
    "         [\"KornerAT\", \"KornerHT\"], [\"Pas İsabetiAT\", \"Pas İsabetiHT\"], [\"Topla OynamaAT\", \"Topla OynamaHT\"],\n",
    "         [\"Hava TopuAT\", \"Hava TopuHT\"], [\"İkili Mücadele KazanmaAT\", \"İkili Mücadele KazanmaHT\"]]\n",
    "dataFinalŞutAT = dataFrameMaker(data, şutAT, \"ŞutAT\")\n"
   ]
  },
  {
   "cell_type": "code",
   "execution_count": 32,
   "id": "ca176847",
   "metadata": {},
   "outputs": [],
   "source": [
    "ortaAT = [[\"OrtaAT\", \"OrtaHT\"], [\"İsabetli ŞutAT\", \"İsabetli ŞutHT\"], [\"ŞutAT\", \"ŞutHT\"],\n",
    "          [\"Ceza Sahası Dışından ŞutAT\", \"Ceza Sahası Dışından ŞutHT\"],\n",
    "          [\"UzaklaştırmaAT\", \"UzaklaştırmaHT\"], [\"KornerAT\", \"KornerHT\"],  # 0.36\n",
    "          [\"Rakip Yarı Sahada Pas İsabetiAT\", \"Rakip Yarı Sahada Pas İsabetiHT\"],\n",
    "          [\"Topla OynamaAT\", \"Topla OynamaHT\"], [\"Pas İsabetiAT\", \"Pas İsabetiHT\"]]\n",
    "dataFinalOrtaAT = dataFrameMaker(data, ortaAT, \"OrtaAT\")\n"
   ]
  },
  {
   "cell_type": "code",
   "execution_count": 33,
   "id": "7f3d6047",
   "metadata": {},
   "outputs": [],
   "source": [
    "ortaİsabetiHT = [[\"Orta İsabetiHT\", \"Orta İsabetiAT\"], [\"İsabetli ŞutHT\", \"İsabetli ŞutAT\"],\n",
    "                 [\"ŞutHT\", \"ŞutAT\"], [\"Rakip Yarı Sahada Pas İsabetiHT\", \"Rakip Yarı Sahada Pas İsabetiAT\"],\n",
    "                 [\"İkili Mücadele KazanmaHT\", \"İkili Mücadele KazanmaAT\"]]  # sonuç mantıklı çıkmadı\n",
    "dataFinalOrtaİsabetiHT = dataFrameMaker(data, ortaİsabetiHT, \"Orta İsabetiHT\")\n"
   ]
  },
  {
   "cell_type": "code",
   "execution_count": 34,
   "id": "832ae6c6",
   "metadata": {},
   "outputs": [],
   "source": [
    "ortaİsabetiAT = [[\"Orta İsabetiAT\", \"Orta İsabetiHT\"], [\"İsabetli ŞutAT\", \"İsabetli ŞutHT\"],\n",
    "                 [\"ŞutAT\", \"ŞutHT\"], [\"Rakip Yarı Sahada Pas İsabetiAT\", \"Rakip Yarı Sahada Pas İsabetiHT\"],\n",
    "                 [\"İkili Mücadele KazanmaAT\", \"İkili Mücadele KazanmaHT\"]]  # sonuç mantıklı çıkmadı\n",
    "dataFinalOrtaİsabetiAT = dataFrameMaker(data, ortaİsabetiAT, \"Orta İsabetiAT\")"
   ]
  },
  {
   "cell_type": "code",
   "execution_count": 35,
   "id": "b18fad27",
   "metadata": {},
   "outputs": [],
   "source": [
    "def dataFinal(data3):\n",
    "    data3.result = data3.result.astype(\"int64\")\n",
    "    x = data3.drop(columns=[\"result\"])\n",
    "    y = data3.loc[:, \"result\"]\n",
    "    x_train, x_test, y_train, y_test = train_test_split(x, y, test_size=0.2, random_state=42)\n",
    "    regr = RandomForestClassifier()\n",
    "    regr.fit(x_train, y_train)\n",
    "    return regr\n"
   ]
  },
  {
   "cell_type": "code",
   "execution_count": 36,
   "id": "af0b228b",
   "metadata": {},
   "outputs": [],
   "source": [
    "FeatureList=[dataFinalToplaOynamaHT,\"dataFinalToplaOynamaHT\",\"Topla OynamaHT\",dataFinalToplaOynamaAT,\"dataFinalToplaOynamaAT\",\"Topla OynamaAT\",\n",
    "             dataFinalİkiliMücadeleHT,\"dataFinalİkiliMücadeleHT\",\"İkili MücadeleHT\",dataFinalİkiliMücadeleAT,\"dataFinalİkiliMücadeleAT\",\"İkili MücadeleAT\",\n",
    "             dataFinalHavaTopuHT,\"dataFinalHavaTopuHT\",\"Hava TopuHT\",dataFinalHavaTopuAT,\"dataFinalHavaTopuAT\",\"Hava TopuAT\",\n",
    "             dataFinalPasİsabetiHT,\"dataFinalPasİsabetiHT\",\"Pas İsabetiHT\",dataFinalPasİsabetiAT,\"dataFinalPasİsabetiAT\",\"Pas İsabetAT\",\n",
    "             dataFinalRakipYarıSahadaPasİsabetiHT,\"dataFinalRakipYarıSahadaPasİsabetiHT\",\"Rakip Yarı Sahada Pas İsabetiHT\",dataFinalRakipYarıSahadaPasİsabetiAT,\"dataFinalRakipYarıSahadaPasİsabetiAT\",\"Rakip Yarı Sahada Pas İsabetiAT\",\n",
    "             dataFinalTopKapmaBaşarısıHT,\"dataFinalTopKapmaBaşarısıHT\",\"Top Kapma BaşarısıHT\",dataFinalTopKapmaBaşarısıAT,\"dataFinalTopKapmaBaşarısıAT\",\"Top Kapma Başarısı AT\",\n",
    "             dataFinalUzaklaştırmaHT,\"dataFinalUzaklaştırmaHT\",\"UzaklaştırmaHT\",dataFinalUzaklaştırmaAT,\"dataFinalUzaklaştırmaAT\",\"UzaklaştırmaAT\",\n",
    "             dataFinalPasArasıHT,\"dataFinalPasArasıHT\",\"Pas ArasıHT\",dataFinalPasArasıAT,\"dataFinalPasArasıAT\",\"Pas ArasıAT\",\n",
    "             dataFinalFaulHT,\"dataFinalFaulHT\",\"FaulHT\",dataFinalFaulAT,\"dataFinalFaulAT\",\"FaulAT\",\n",
    "             dataFinalŞutHT,\"dataFinalŞutHT\",\"ŞutHT\",dataFinalŞutAT,\"dataFinalŞutAT\",\"ŞutAT\",\n",
    "             dataFinalCezaSahasıDışındanŞutHT,\"dataFinalCezaSahasıDışındanŞutHT\",\"Ceza Sahası Dışından ŞutHT\",dataFinalCezaSahasıDışındanŞutAT,\"dataFinalCezaSahasıDışındanŞutAT\",\"Ceza Sahası Dışından ŞutAT\",\n",
    "             dataFinalİsabetliŞutHT,\"dataFinalİsabetliŞutHT\",\"İsabetli ŞutHT\",dataFinalİsabetliŞutAT,\"dataFinalİsabetliŞutAT\",\"İsabetli ŞutAT\",\n",
    "             dataFinalOrtaHT,\"dataFinalOrtaHT\",\"OrtaHT\",dataFinalOrtaAT,\"dataFinalOrtaAT\",\"OrtaAT\",\n",
    "             dataFinalOrtaİsabetiHT,\"dataFinalOrtaİsabetiHT\",\"Orta İsabetiHT\",dataFinalOrtaİsabetiAT,\"dataFinalOrtaİsabetiAT\",\"Orta İsabetiAT\"]\n",
    "\n"
   ]
  },
  {
   "cell_type": "code",
   "execution_count": 37,
   "id": "183e2336",
   "metadata": {},
   "outputs": [
    {
     "name": "stdout",
     "output_type": "stream",
     "text": [
      "84\n",
      "Topla OynamaHT\n",
      "Topla OynamaAT\n",
      "İkili MücadeleHT\n",
      "İkili MücadeleAT\n",
      "Hava TopuHT\n",
      "Hava TopuAT\n",
      "Pas İsabetiHT\n",
      "Pas İsabetAT\n",
      "Rakip Yarı Sahada Pas İsabetiHT\n",
      "Rakip Yarı Sahada Pas İsabetiAT\n",
      "Top Kapma BaşarısıHT\n",
      "Top Kapma Başarısı AT\n",
      "UzaklaştırmaHT\n",
      "UzaklaştırmaAT\n",
      "Pas ArasıHT\n",
      "Pas ArasıAT\n",
      "FaulHT\n",
      "FaulAT\n",
      "ŞutHT\n",
      "ŞutAT\n",
      "Ceza Sahası Dışından ŞutHT\n",
      "Ceza Sahası Dışından ŞutAT\n",
      "İsabetli ŞutHT\n",
      "İsabetli ŞutAT\n",
      "OrtaHT\n",
      "OrtaAT\n",
      "Orta İsabetiHT\n",
      "Orta İsabetiAT\n"
     ]
    }
   ],
   "source": [
    "\n",
    "regrList= {}\n",
    "print(len(FeatureList))\n",
    "for i in range(0, len(FeatureList),3):\n",
    "    print(FeatureList[i+2])\n",
    "    regrList[FeatureList[i+1]]=dataFinal(FeatureList[i])\n"
   ]
  },
  {
   "cell_type": "code",
   "execution_count": 38,
   "id": "3d61fa0c",
   "metadata": {},
   "outputs": [],
   "source": [
    "def returnFeaturePredictions(regrList,FeatureList):\n",
    "    predictResults={}\n",
    "    resultColumns=[]\n",
    "    results=[]\n",
    "    for key in regrList:\n",
    "        for i in range(0, len(FeatureList),3):\n",
    "            if(FeatureList[i+1]==key):\n",
    "                predictElement= FeatureList[i].iloc[-1].copy()\n",
    "                predictElement.drop(\"result\",inplace=True)\n",
    "                predictElement=predictElement.values\n",
    "                predictElement=predictElement.reshape(1,-1)\n",
    "                result=regrList[key].predict(predictElement)\n",
    "                resultColumns.append(FeatureList[i+2])\n",
    "                results.append(result)\n",
    "    print(resultColumns)\n",
    "    resultDataFrame=pd.DataFrame(columns=resultColumns)\n",
    "    resultDataFrame.loc[0]=results\n",
    "    \n",
    "    return resultDataFrame\n",
    "    \n",
    "               "
   ]
  },
  {
   "cell_type": "code",
   "execution_count": 39,
   "id": "1caf5367",
   "metadata": {},
   "outputs": [
    {
     "name": "stdout",
     "output_type": "stream",
     "text": [
      "['Topla OynamaHT', 'Topla OynamaAT', 'İkili MücadeleHT', 'İkili MücadeleAT', 'Hava TopuHT', 'Hava TopuAT', 'Pas İsabetiHT', 'Pas İsabetAT', 'Rakip Yarı Sahada Pas İsabetiHT', 'Rakip Yarı Sahada Pas İsabetiAT', 'Top Kapma BaşarısıHT', 'Top Kapma Başarısı AT', 'UzaklaştırmaHT', 'UzaklaştırmaAT', 'Pas ArasıHT', 'Pas ArasıAT', 'FaulHT', 'FaulAT', 'ŞutHT', 'ŞutAT', 'Ceza Sahası Dışından ŞutHT', 'Ceza Sahası Dışından ŞutAT', 'İsabetli ŞutHT', 'İsabetli ŞutAT', 'OrtaHT', 'OrtaAT', 'Orta İsabetiHT', 'Orta İsabetiAT']\n",
      "  Topla OynamaHT Topla OynamaAT İkili MücadeleHT İkili MücadeleAT Hava TopuHT  \\\n",
      "0           [66]           [66]             [48]             [51]        [50]   \n",
      "\n",
      "  Hava TopuAT Pas İsabetiHT Pas İsabetAT Rakip Yarı Sahada Pas İsabetiHT  \\\n",
      "0        [50]          [89]         [75]                            [76]   \n",
      "\n",
      "  Rakip Yarı Sahada Pas İsabetiAT  ... ŞutHT ŞutAT Ceza Sahası Dışından ŞutHT  \\\n",
      "0                            [56]  ...   [9]   [6]                        [5]   \n",
      "\n",
      "  Ceza Sahası Dışından ŞutAT İsabetli ŞutHT İsabetli ŞutAT OrtaHT OrtaAT  \\\n",
      "0                        [3]            [5]            [1]   [27]   [11]   \n",
      "\n",
      "  Orta İsabetiHT Orta İsabetiAT  \n",
      "0           [18]           [18]  \n",
      "\n",
      "[1 rows x 28 columns]\n"
     ]
    }
   ],
   "source": [
    "\n",
    "resultDataFrame=returnFeaturePredictions(regrList,FeatureList)\n",
    "print(resultDataFrame)"
   ]
  },
  {
   "cell_type": "code",
   "execution_count": 41,
   "id": "3347ab58",
   "metadata": {},
   "outputs": [],
   "source": [
    "import numpy as np\n",
    "import pandas as pd\n",
    "import matplotlib.pyplot as plt\n",
    "from sklearn.model_selection import train_test_split\n",
    "from sklearn.preprocessing import MinMaxScaler\n",
    "from sklearn.model_selection import GridSearchCV, StratifiedKFold\n",
    "from sklearn.metrics import classification_report,f1_score,accuracy_score,confusion_matrix\n",
    "from sklearn.ensemble import RandomForestClassifier\n",
    "from sklearn.cluster import KMeans\n",
    "from sklearn import metrics\n",
    "from sklearn.preprocessing import StandardScaler\n",
    "%matplotlib inline"
   ]
  },
  {
   "cell_type": "code",
   "execution_count": 42,
   "id": "5492a509",
   "metadata": {},
   "outputs": [],
   "source": [
    "data2 = pd.read_excel(\"mackolik_2017_2018.xls\", index_col=0)"
   ]
  },
  {
   "cell_type": "code",
   "execution_count": 43,
   "id": "d3ed8ab5",
   "metadata": {},
   "outputs": [
    {
     "name": "stdout",
     "output_type": "stream",
     "text": [
      "<class 'pandas.core.frame.DataFrame'>\n",
      "Int64Index: 612 entries, 1 to 612\n",
      "Data columns (total 40 columns):\n",
      " #   Column                           Non-Null Count  Dtype  \n",
      "---  ------                           --------------  -----  \n",
      " 0   Home Team                        612 non-null    object \n",
      " 1   Away Team                        612 non-null    object \n",
      " 2   Skor                             612 non-null    object \n",
      " 3   Tarih                            612 non-null    object \n",
      " 4   Topla OynamaHT                   612 non-null    float64\n",
      " 5   Topla OynamaAT                   612 non-null    float64\n",
      " 6   İkili Mücadele KazanmaHT         612 non-null    float64\n",
      " 7   İkili Mücadele KazanmaAT         612 non-null    float64\n",
      " 8   Hava TopuHT                      612 non-null    float64\n",
      " 9   Hava TopuAT                      612 non-null    float64\n",
      " 10  Pas İsabetiHT                    612 non-null    float64\n",
      " 11  Pas İsabetiAT                    612 non-null    float64\n",
      " 12  Rakip Yarı Sahada Pas İsabetiHT  612 non-null    float64\n",
      " 13  Rakip Yarı Sahada Pas İsabetiAT  612 non-null    float64\n",
      " 14  KornerHT                         612 non-null    int64  \n",
      " 15  KornerAT                         612 non-null    int64  \n",
      " 16  Top Kapma BaşarısıHT             612 non-null    float64\n",
      " 17  Top Kapma BaşarısıAT             612 non-null    float64\n",
      " 18  UzaklaştırmaHT                   612 non-null    int64  \n",
      " 19  UzaklaştırmaAT                   612 non-null    int64  \n",
      " 20  Pas ArasıHT                      612 non-null    int64  \n",
      " 21  Pas ArasıAT                      612 non-null    int64  \n",
      " 22  FaulHT                           612 non-null    int64  \n",
      " 23  FaulAT                           612 non-null    int64  \n",
      " 24  Sarı KartHT                      612 non-null    int64  \n",
      " 25  Sarı KartAT                      612 non-null    int64  \n",
      " 26  Kırmızı KartHT                   612 non-null    int64  \n",
      " 27  Kırmızı KartAT                   612 non-null    int64  \n",
      " 28  ŞutHT                            612 non-null    int64  \n",
      " 29  ŞutAT                            612 non-null    int64  \n",
      " 30  Ceza Sahası Dışından ŞutHT       612 non-null    int64  \n",
      " 31  Ceza Sahası Dışından ŞutAT       612 non-null    int64  \n",
      " 32  İsabetli ŞutHT                   612 non-null    int64  \n",
      " 33  İsabetli ŞutAT                   612 non-null    int64  \n",
      " 34  OrtaHT                           612 non-null    int64  \n",
      " 35  OrtaAT                           612 non-null    int64  \n",
      " 36  Orta İsabetiHT                   612 non-null    float64\n",
      " 37  Orta İsabetiAT                   612 non-null    float64\n",
      " 38  OfsaytHT                         612 non-null    int64  \n",
      " 39  OfsaytAT                         612 non-null    int64  \n",
      "dtypes: float64(14), int64(22), object(4)\n",
      "memory usage: 196.0+ KB\n"
     ]
    }
   ],
   "source": [
    "data2.info()"
   ]
  },
  {
   "cell_type": "code",
   "execution_count": 44,
   "id": "af8388df",
   "metadata": {},
   "outputs": [],
   "source": [
    "data = data2.drop(columns = [\"Home Team\",\"Away Team\", 'Tarih'])"
   ]
  },
  {
   "cell_type": "code",
   "execution_count": 45,
   "id": "8a9e63fc",
   "metadata": {},
   "outputs": [
    {
     "data": {
      "text/html": [
       "<div>\n",
       "<style scoped>\n",
       "    .dataframe tbody tr th:only-of-type {\n",
       "        vertical-align: middle;\n",
       "    }\n",
       "\n",
       "    .dataframe tbody tr th {\n",
       "        vertical-align: top;\n",
       "    }\n",
       "\n",
       "    .dataframe thead th {\n",
       "        text-align: right;\n",
       "    }\n",
       "</style>\n",
       "<table border=\"1\" class=\"dataframe\">\n",
       "  <thead>\n",
       "    <tr style=\"text-align: right;\">\n",
       "      <th></th>\n",
       "      <th>Skor</th>\n",
       "      <th>Topla OynamaHT</th>\n",
       "      <th>Topla OynamaAT</th>\n",
       "      <th>İkili Mücadele KazanmaHT</th>\n",
       "      <th>İkili Mücadele KazanmaAT</th>\n",
       "      <th>Hava TopuHT</th>\n",
       "      <th>Hava TopuAT</th>\n",
       "      <th>Pas İsabetiHT</th>\n",
       "      <th>Pas İsabetiAT</th>\n",
       "      <th>Rakip Yarı Sahada Pas İsabetiHT</th>\n",
       "      <th>...</th>\n",
       "      <th>İsabetli ŞutHT</th>\n",
       "      <th>İsabetli ŞutAT</th>\n",
       "      <th>OrtaHT</th>\n",
       "      <th>OrtaAT</th>\n",
       "      <th>Orta İsabetiHT</th>\n",
       "      <th>Orta İsabetiAT</th>\n",
       "      <th>OfsaytHT</th>\n",
       "      <th>OfsaytAT</th>\n",
       "      <th>ScoreHT</th>\n",
       "      <th>ScoreAT</th>\n",
       "    </tr>\n",
       "  </thead>\n",
       "  <tbody>\n",
       "    <tr>\n",
       "      <th>1</th>\n",
       "      <td>4 - 1</td>\n",
       "      <td>63.3</td>\n",
       "      <td>36.7</td>\n",
       "      <td>51.1</td>\n",
       "      <td>48.9</td>\n",
       "      <td>28.6</td>\n",
       "      <td>71.4</td>\n",
       "      <td>86.8</td>\n",
       "      <td>75.5</td>\n",
       "      <td>78.0</td>\n",
       "      <td>...</td>\n",
       "      <td>8</td>\n",
       "      <td>2</td>\n",
       "      <td>10</td>\n",
       "      <td>17</td>\n",
       "      <td>40.0</td>\n",
       "      <td>17.6</td>\n",
       "      <td>5</td>\n",
       "      <td>2</td>\n",
       "      <td>4</td>\n",
       "      <td>1</td>\n",
       "    </tr>\n",
       "    <tr>\n",
       "      <th>2</th>\n",
       "      <td>1 - 0</td>\n",
       "      <td>50.1</td>\n",
       "      <td>49.9</td>\n",
       "      <td>48.7</td>\n",
       "      <td>51.3</td>\n",
       "      <td>53.5</td>\n",
       "      <td>46.5</td>\n",
       "      <td>78.2</td>\n",
       "      <td>77.4</td>\n",
       "      <td>58.2</td>\n",
       "      <td>...</td>\n",
       "      <td>2</td>\n",
       "      <td>0</td>\n",
       "      <td>17</td>\n",
       "      <td>15</td>\n",
       "      <td>47.1</td>\n",
       "      <td>6.7</td>\n",
       "      <td>1</td>\n",
       "      <td>1</td>\n",
       "      <td>1</td>\n",
       "      <td>0</td>\n",
       "    </tr>\n",
       "    <tr>\n",
       "      <th>3</th>\n",
       "      <td>2 - 0</td>\n",
       "      <td>50.5</td>\n",
       "      <td>49.5</td>\n",
       "      <td>42.4</td>\n",
       "      <td>57.6</td>\n",
       "      <td>48.0</td>\n",
       "      <td>52.0</td>\n",
       "      <td>78.7</td>\n",
       "      <td>72.3</td>\n",
       "      <td>67.6</td>\n",
       "      <td>...</td>\n",
       "      <td>4</td>\n",
       "      <td>1</td>\n",
       "      <td>17</td>\n",
       "      <td>13</td>\n",
       "      <td>23.5</td>\n",
       "      <td>30.8</td>\n",
       "      <td>1</td>\n",
       "      <td>2</td>\n",
       "      <td>2</td>\n",
       "      <td>0</td>\n",
       "    </tr>\n",
       "    <tr>\n",
       "      <th>4</th>\n",
       "      <td>3 - 1</td>\n",
       "      <td>38.0</td>\n",
       "      <td>62.0</td>\n",
       "      <td>54.6</td>\n",
       "      <td>45.4</td>\n",
       "      <td>48.3</td>\n",
       "      <td>51.7</td>\n",
       "      <td>71.5</td>\n",
       "      <td>82.8</td>\n",
       "      <td>54.8</td>\n",
       "      <td>...</td>\n",
       "      <td>4</td>\n",
       "      <td>5</td>\n",
       "      <td>12</td>\n",
       "      <td>21</td>\n",
       "      <td>41.7</td>\n",
       "      <td>23.8</td>\n",
       "      <td>1</td>\n",
       "      <td>1</td>\n",
       "      <td>3</td>\n",
       "      <td>1</td>\n",
       "    </tr>\n",
       "    <tr>\n",
       "      <th>5</th>\n",
       "      <td>1 - 3</td>\n",
       "      <td>61.3</td>\n",
       "      <td>38.7</td>\n",
       "      <td>62.1</td>\n",
       "      <td>37.9</td>\n",
       "      <td>71.4</td>\n",
       "      <td>28.6</td>\n",
       "      <td>90.2</td>\n",
       "      <td>81.3</td>\n",
       "      <td>78.8</td>\n",
       "      <td>...</td>\n",
       "      <td>7</td>\n",
       "      <td>3</td>\n",
       "      <td>36</td>\n",
       "      <td>15</td>\n",
       "      <td>13.9</td>\n",
       "      <td>33.3</td>\n",
       "      <td>1</td>\n",
       "      <td>0</td>\n",
       "      <td>1</td>\n",
       "      <td>3</td>\n",
       "    </tr>\n",
       "    <tr>\n",
       "      <th>...</th>\n",
       "      <td>...</td>\n",
       "      <td>...</td>\n",
       "      <td>...</td>\n",
       "      <td>...</td>\n",
       "      <td>...</td>\n",
       "      <td>...</td>\n",
       "      <td>...</td>\n",
       "      <td>...</td>\n",
       "      <td>...</td>\n",
       "      <td>...</td>\n",
       "      <td>...</td>\n",
       "      <td>...</td>\n",
       "      <td>...</td>\n",
       "      <td>...</td>\n",
       "      <td>...</td>\n",
       "      <td>...</td>\n",
       "      <td>...</td>\n",
       "      <td>...</td>\n",
       "      <td>...</td>\n",
       "      <td>...</td>\n",
       "      <td>...</td>\n",
       "    </tr>\n",
       "    <tr>\n",
       "      <th>608</th>\n",
       "      <td>0 - 2</td>\n",
       "      <td>48.8</td>\n",
       "      <td>51.2</td>\n",
       "      <td>51.6</td>\n",
       "      <td>48.4</td>\n",
       "      <td>55.6</td>\n",
       "      <td>44.4</td>\n",
       "      <td>89.1</td>\n",
       "      <td>89.2</td>\n",
       "      <td>72.5</td>\n",
       "      <td>...</td>\n",
       "      <td>7</td>\n",
       "      <td>6</td>\n",
       "      <td>26</td>\n",
       "      <td>20</td>\n",
       "      <td>23.1</td>\n",
       "      <td>10.0</td>\n",
       "      <td>1</td>\n",
       "      <td>4</td>\n",
       "      <td>0</td>\n",
       "      <td>2</td>\n",
       "    </tr>\n",
       "    <tr>\n",
       "      <th>609</th>\n",
       "      <td>0 - 0</td>\n",
       "      <td>61.1</td>\n",
       "      <td>38.9</td>\n",
       "      <td>49.2</td>\n",
       "      <td>50.8</td>\n",
       "      <td>56.5</td>\n",
       "      <td>43.5</td>\n",
       "      <td>85.8</td>\n",
       "      <td>79.8</td>\n",
       "      <td>78.4</td>\n",
       "      <td>...</td>\n",
       "      <td>7</td>\n",
       "      <td>5</td>\n",
       "      <td>18</td>\n",
       "      <td>15</td>\n",
       "      <td>16.7</td>\n",
       "      <td>13.3</td>\n",
       "      <td>2</td>\n",
       "      <td>1</td>\n",
       "      <td>0</td>\n",
       "      <td>0</td>\n",
       "    </tr>\n",
       "    <tr>\n",
       "      <th>610</th>\n",
       "      <td>2 - 3</td>\n",
       "      <td>54.8</td>\n",
       "      <td>45.2</td>\n",
       "      <td>56.3</td>\n",
       "      <td>43.8</td>\n",
       "      <td>51.6</td>\n",
       "      <td>48.4</td>\n",
       "      <td>83.4</td>\n",
       "      <td>80.7</td>\n",
       "      <td>70.6</td>\n",
       "      <td>...</td>\n",
       "      <td>5</td>\n",
       "      <td>8</td>\n",
       "      <td>22</td>\n",
       "      <td>14</td>\n",
       "      <td>40.9</td>\n",
       "      <td>50.0</td>\n",
       "      <td>2</td>\n",
       "      <td>1</td>\n",
       "      <td>2</td>\n",
       "      <td>3</td>\n",
       "    </tr>\n",
       "    <tr>\n",
       "      <th>611</th>\n",
       "      <td>1 - 1</td>\n",
       "      <td>57.1</td>\n",
       "      <td>42.9</td>\n",
       "      <td>42.3</td>\n",
       "      <td>57.7</td>\n",
       "      <td>27.3</td>\n",
       "      <td>72.7</td>\n",
       "      <td>84.9</td>\n",
       "      <td>82.3</td>\n",
       "      <td>75.8</td>\n",
       "      <td>...</td>\n",
       "      <td>4</td>\n",
       "      <td>7</td>\n",
       "      <td>10</td>\n",
       "      <td>19</td>\n",
       "      <td>20.0</td>\n",
       "      <td>42.1</td>\n",
       "      <td>2</td>\n",
       "      <td>3</td>\n",
       "      <td>1</td>\n",
       "      <td>1</td>\n",
       "    </tr>\n",
       "    <tr>\n",
       "      <th>612</th>\n",
       "      <td>1 - 2</td>\n",
       "      <td>44.5</td>\n",
       "      <td>55.5</td>\n",
       "      <td>66.7</td>\n",
       "      <td>33.3</td>\n",
       "      <td>55.2</td>\n",
       "      <td>44.8</td>\n",
       "      <td>81.1</td>\n",
       "      <td>87.1</td>\n",
       "      <td>67.4</td>\n",
       "      <td>...</td>\n",
       "      <td>4</td>\n",
       "      <td>6</td>\n",
       "      <td>16</td>\n",
       "      <td>14</td>\n",
       "      <td>12.5</td>\n",
       "      <td>14.3</td>\n",
       "      <td>2</td>\n",
       "      <td>2</td>\n",
       "      <td>1</td>\n",
       "      <td>2</td>\n",
       "    </tr>\n",
       "  </tbody>\n",
       "</table>\n",
       "<p>612 rows × 39 columns</p>\n",
       "</div>"
      ],
      "text/plain": [
       "      Skor  Topla OynamaHT  Topla OynamaAT  İkili Mücadele KazanmaHT  \\\n",
       "1    4 - 1            63.3            36.7                      51.1   \n",
       "2    1 - 0            50.1            49.9                      48.7   \n",
       "3    2 - 0            50.5            49.5                      42.4   \n",
       "4    3 - 1            38.0            62.0                      54.6   \n",
       "5    1 - 3            61.3            38.7                      62.1   \n",
       "..     ...             ...             ...                       ...   \n",
       "608  0 - 2            48.8            51.2                      51.6   \n",
       "609  0 - 0            61.1            38.9                      49.2   \n",
       "610  2 - 3            54.8            45.2                      56.3   \n",
       "611  1 - 1            57.1            42.9                      42.3   \n",
       "612  1 - 2            44.5            55.5                      66.7   \n",
       "\n",
       "     İkili Mücadele KazanmaAT  Hava TopuHT  Hava TopuAT  Pas İsabetiHT  \\\n",
       "1                        48.9         28.6         71.4           86.8   \n",
       "2                        51.3         53.5         46.5           78.2   \n",
       "3                        57.6         48.0         52.0           78.7   \n",
       "4                        45.4         48.3         51.7           71.5   \n",
       "5                        37.9         71.4         28.6           90.2   \n",
       "..                        ...          ...          ...            ...   \n",
       "608                      48.4         55.6         44.4           89.1   \n",
       "609                      50.8         56.5         43.5           85.8   \n",
       "610                      43.8         51.6         48.4           83.4   \n",
       "611                      57.7         27.3         72.7           84.9   \n",
       "612                      33.3         55.2         44.8           81.1   \n",
       "\n",
       "     Pas İsabetiAT  Rakip Yarı Sahada Pas İsabetiHT  ...  İsabetli ŞutHT  \\\n",
       "1             75.5                             78.0  ...               8   \n",
       "2             77.4                             58.2  ...               2   \n",
       "3             72.3                             67.6  ...               4   \n",
       "4             82.8                             54.8  ...               4   \n",
       "5             81.3                             78.8  ...               7   \n",
       "..             ...                              ...  ...             ...   \n",
       "608           89.2                             72.5  ...               7   \n",
       "609           79.8                             78.4  ...               7   \n",
       "610           80.7                             70.6  ...               5   \n",
       "611           82.3                             75.8  ...               4   \n",
       "612           87.1                             67.4  ...               4   \n",
       "\n",
       "     İsabetli ŞutAT  OrtaHT  OrtaAT  Orta İsabetiHT  Orta İsabetiAT  OfsaytHT  \\\n",
       "1                 2      10      17            40.0            17.6         5   \n",
       "2                 0      17      15            47.1             6.7         1   \n",
       "3                 1      17      13            23.5            30.8         1   \n",
       "4                 5      12      21            41.7            23.8         1   \n",
       "5                 3      36      15            13.9            33.3         1   \n",
       "..              ...     ...     ...             ...             ...       ...   \n",
       "608               6      26      20            23.1            10.0         1   \n",
       "609               5      18      15            16.7            13.3         2   \n",
       "610               8      22      14            40.9            50.0         2   \n",
       "611               7      10      19            20.0            42.1         2   \n",
       "612               6      16      14            12.5            14.3         2   \n",
       "\n",
       "     OfsaytAT  ScoreHT  ScoreAT  \n",
       "1           2        4        1  \n",
       "2           1        1        0  \n",
       "3           2        2        0  \n",
       "4           1        3        1  \n",
       "5           0        1        3  \n",
       "..        ...      ...      ...  \n",
       "608         4        0        2  \n",
       "609         1        0        0  \n",
       "610         1        2        3  \n",
       "611         3        1        1  \n",
       "612         2        1        2  \n",
       "\n",
       "[612 rows x 39 columns]"
      ]
     },
     "execution_count": 45,
     "metadata": {},
     "output_type": "execute_result"
    }
   ],
   "source": [
    "data[['ScoreHT','ScoreAT']] = data.Skor.str.split(\" - \",expand=True,)\n",
    "data"
   ]
  },
  {
   "cell_type": "code",
   "execution_count": 46,
   "id": "6ff802d0",
   "metadata": {},
   "outputs": [],
   "source": [
    "data[\"ScoreHT\"] = data[\"ScoreHT\"].apply(pd.to_numeric)\n",
    "data[\"ScoreAT\"] = data[\"ScoreAT\"].apply(pd.to_numeric)"
   ]
  },
  {
   "cell_type": "code",
   "execution_count": 47,
   "id": "c8bfc5a7",
   "metadata": {},
   "outputs": [],
   "source": [
    "data[\"WDL\"] = data[\"ScoreHT\"]-data[\"ScoreAT\"]"
   ]
  },
  {
   "cell_type": "code",
   "execution_count": 48,
   "id": "566da3c0",
   "metadata": {},
   "outputs": [
    {
     "data": {
      "text/plain": [
       "1      1\n",
       "2      1\n",
       "3      1\n",
       "4      1\n",
       "5      2\n",
       "      ..\n",
       "608    2\n",
       "609    0\n",
       "610    2\n",
       "611    0\n",
       "612    2\n",
       "Name: WDL, Length: 612, dtype: int64"
      ]
     },
     "execution_count": 48,
     "metadata": {},
     "output_type": "execute_result"
    }
   ],
   "source": [
    "def encode(x):\n",
    "    if x > 0:\n",
    "        return 1\n",
    "    elif x < 0:\n",
    "        return 2\n",
    "    else:\n",
    "        return 0\n",
    "\n",
    "data[\"WDL\"] = data.apply(lambda x: encode(x[\"WDL\"]), axis = 1)\n",
    "data[\"WDL\"]"
   ]
  },
  {
   "cell_type": "code",
   "execution_count": 49,
   "id": "bd23fe8c",
   "metadata": {},
   "outputs": [],
   "source": [
    "data.drop(labels = [\"ScoreHT\",\"ScoreAT\",\"Skor\"], axis = 1,inplace=True)"
   ]
  },
  {
   "cell_type": "code",
   "execution_count": null,
   "id": "253e1d80",
   "metadata": {},
   "outputs": [],
   "source": []
  },
  {
   "cell_type": "code",
   "execution_count": 51,
   "id": "ae127a5d",
   "metadata": {},
   "outputs": [],
   "source": [
    "data = data[['Topla OynamaHT', 'Topla OynamaAT', 'İkili Mücadele KazanmaHT',\n",
    "       'İkili Mücadele KazanmaAT', 'Hava TopuHT', 'Hava TopuAT',\n",
    "       'Pas İsabetiHT', 'Pas İsabetiAT', 'Rakip Yarı Sahada Pas İsabetiHT',\n",
    "       'Rakip Yarı Sahada Pas İsabetiAT', 'Top Kapma BaşarısıHT',\n",
    "       'Top Kapma BaşarısıAT', 'UzaklaştırmaHT', 'UzaklaştırmaAT',\n",
    "       'Pas ArasıHT', 'Pas ArasıAT', 'FaulHT', 'FaulAT', 'ŞutHT', 'ŞutAT',\n",
    "       'Ceza Sahası Dışından ŞutHT', 'Ceza Sahası Dışından ŞutAT',\n",
    "       'İsabetli ŞutHT', 'İsabetli ŞutAT', 'OrtaHT', 'OrtaAT',\n",
    "       'Orta İsabetiHT', 'Orta İsabetiAT',\"WDL\"]]"
   ]
  },
  {
   "cell_type": "code",
   "execution_count": 52,
   "id": "ca7f5158",
   "metadata": {},
   "outputs": [
    {
     "name": "stdout",
     "output_type": "stream",
     "text": [
      "<class 'pandas.core.frame.DataFrame'>\n",
      "Int64Index: 612 entries, 1 to 612\n",
      "Data columns (total 29 columns):\n",
      " #   Column                           Non-Null Count  Dtype  \n",
      "---  ------                           --------------  -----  \n",
      " 0   Topla OynamaHT                   612 non-null    float64\n",
      " 1   Topla OynamaAT                   612 non-null    float64\n",
      " 2   İkili Mücadele KazanmaHT         612 non-null    float64\n",
      " 3   İkili Mücadele KazanmaAT         612 non-null    float64\n",
      " 4   Hava TopuHT                      612 non-null    float64\n",
      " 5   Hava TopuAT                      612 non-null    float64\n",
      " 6   Pas İsabetiHT                    612 non-null    float64\n",
      " 7   Pas İsabetiAT                    612 non-null    float64\n",
      " 8   Rakip Yarı Sahada Pas İsabetiHT  612 non-null    float64\n",
      " 9   Rakip Yarı Sahada Pas İsabetiAT  612 non-null    float64\n",
      " 10  Top Kapma BaşarısıHT             612 non-null    float64\n",
      " 11  Top Kapma BaşarısıAT             612 non-null    float64\n",
      " 12  UzaklaştırmaHT                   612 non-null    int64  \n",
      " 13  UzaklaştırmaAT                   612 non-null    int64  \n",
      " 14  Pas ArasıHT                      612 non-null    int64  \n",
      " 15  Pas ArasıAT                      612 non-null    int64  \n",
      " 16  FaulHT                           612 non-null    int64  \n",
      " 17  FaulAT                           612 non-null    int64  \n",
      " 18  ŞutHT                            612 non-null    int64  \n",
      " 19  ŞutAT                            612 non-null    int64  \n",
      " 20  Ceza Sahası Dışından ŞutHT       612 non-null    int64  \n",
      " 21  Ceza Sahası Dışından ŞutAT       612 non-null    int64  \n",
      " 22  İsabetli ŞutHT                   612 non-null    int64  \n",
      " 23  İsabetli ŞutAT                   612 non-null    int64  \n",
      " 24  OrtaHT                           612 non-null    int64  \n",
      " 25  OrtaAT                           612 non-null    int64  \n",
      " 26  Orta İsabetiHT                   612 non-null    float64\n",
      " 27  Orta İsabetiAT                   612 non-null    float64\n",
      " 28  WDL                              612 non-null    int64  \n",
      "dtypes: float64(14), int64(15)\n",
      "memory usage: 143.4 KB\n"
     ]
    }
   ],
   "source": [
    "data.info()"
   ]
  },
  {
   "cell_type": "code",
   "execution_count": 66,
   "id": "47b28df9",
   "metadata": {},
   "outputs": [],
   "source": [
    "X = data.iloc[:,:28]\n",
    "y = data[\"WDL\"]"
   ]
  },
  {
   "cell_type": "code",
   "execution_count": 67,
   "id": "9592d6c9",
   "metadata": {},
   "outputs": [
    {
     "data": {
      "text/plain": [
       "ExtraTreesClassifier()"
      ]
     },
     "execution_count": 67,
     "metadata": {},
     "output_type": "execute_result"
    }
   ],
   "source": [
    "from sklearn.ensemble import ExtraTreesClassifier\n",
    "model = ExtraTreesClassifier() \n",
    "model.fit(X,y)"
   ]
  },
  {
   "cell_type": "code",
   "execution_count": 68,
   "id": "c11f01a6",
   "metadata": {},
   "outputs": [
    {
     "data": {
      "image/png": "[encoded data removed]",
      "text/plain": [
       "<Figure size 864x576 with 1 Axes>"
      ]
     },
     "metadata": {
      "needs_background": "light"
     },
     "output_type": "display_data"
    }
   ],
   "source": [
    "feature_importances = pd.Series(model.feature_importances_, index= X.columns)\n",
    "plt.figure(figsize=(12,8))\n",
    "feature_importances.nlargest(28).plot(kind='barh')\n",
    "plt.show()"
   ]
  },
  {
   "cell_type": "code",
   "execution_count": 69,
   "id": "976b78f2",
   "metadata": {},
   "outputs": [],
   "source": [
    "def split_data(X,y):\n",
    "    X_train, X_test, y_train, y_test = train_test_split(X, y, test_size=0.3,random_state=42)\n",
    "    return X_train, X_test, y_train, y_test"
   ]
  },
  {
   "cell_type": "code",
   "execution_count": 70,
   "id": "8eaa17f8",
   "metadata": {},
   "outputs": [],
   "source": [
    "def MMScaler(X_train,X_test):\n",
    "    scaler = MinMaxScaler()\n",
    "    X_ND_train = pd.DataFrame(scaler.fit_transform(X_train), columns=X_train.columns)\n",
    "    X_ND_test = pd.DataFrame(scaler.transform(X_test), columns=X_test.columns)\n",
    "    return X_ND_train, X_ND_test"
   ]
  },
  {
   "cell_type": "code",
   "execution_count": 71,
   "id": "fc98c0ad",
   "metadata": {},
   "outputs": [],
   "source": [
    "def classificationPredict(X_train,y_train):\n",
    "    nfolds = 5\n",
    "    cV = StratifiedKFold(n_splits=nfolds, shuffle=True)\n",
    "    param_grid = {\n",
    "        'n_estimators' : [100],\n",
    "        'criterion' : ['entropy','gini'],\n",
    "        'max_features' : [0.2,'sqrt',1., None, 'auto'],\n",
    "        'class_weight' : ['balanced', 'balanced_subsample', None]\n",
    "        }\n",
    "    \n",
    "    clasf = RandomForestClassifier()\n",
    "    cvclasf = GridSearchCV(clasf, param_grid, verbose=0,refit=True,cv=cV, scoring='f1_weighted', n_jobs=4)\n",
    "    \n",
    "    # Fit GridSearch\n",
    "    cvclasf.fit(X_train,y_train)\n",
    "    # Take the best classifier\n",
    "    bclasf = cvclasf.best_estimator_\n",
    "    # Print out best parameters chosen for given model.\n",
    "    print(\"%d-fold best CV params: %s\" % (nfolds,cvclasf.best_params_))\n",
    "    \n",
    "    return bclasf"
   ]
  },
  {
   "cell_type": "code",
   "execution_count": 72,
   "id": "28f0254d",
   "metadata": {},
   "outputs": [],
   "source": [
    "def classModel(X_train, y_train):\n",
    "    clasf = classificationPredict(X_train, y_train)\n",
    "    return clasf"
   ]
  },
  {
   "cell_type": "code",
   "execution_count": 73,
   "id": "ff4f4a54",
   "metadata": {},
   "outputs": [],
   "source": [
    "X_train, X_test, y_train, y_test = split_data(X, y)"
   ]
  },
  {
   "cell_type": "code",
   "execution_count": 74,
   "id": "959eb9c0",
   "metadata": {},
   "outputs": [
    {
     "name": "stdout",
     "output_type": "stream",
     "text": [
      "5-fold best CV params: {'class_weight': 'balanced', 'criterion': 'gini', 'max_features': None, 'n_estimators': 100}\n"
     ]
    }
   ],
   "source": [
    "clasf= classModel(X_train, y_train)"
   ]
  },
  {
   "cell_type": "code",
   "execution_count": 75,
   "id": "f7ca134f",
   "metadata": {},
   "outputs": [],
   "source": [
    "y_pred = clasf.predict(X_test)\n"
   ]
  },
  {
   "cell_type": "code",
   "execution_count": 76,
   "id": "637cd386",
   "metadata": {},
   "outputs": [],
   "source": [
    "y_predOneMatch= clasf.predict(resultDataFrame)"
   ]
  },
  {
   "cell_type": "code",
   "execution_count": 77,
   "id": "b4b78550",
   "metadata": {},
   "outputs": [
    {
     "name": "stdout",
     "output_type": "stream",
     "text": [
      "[1]\n"
     ]
    }
   ],
   "source": [
    "print(y_predOneMatch)"
   ]
  }
 ],
 "metadata": {
  "kernelspec": {
   "display_name": "Python 3",
   "language": "python",
   "name": "python3"
  },
  "language_info": {
   "codemirror_mode": {
    "name": "ipython",
    "version": 3
   },
   "file_extension": ".py",
   "mimetype": "text/x-python",
   "name": "python",
   "nbconvert_exporter": "python",
   "pygments_lexer": "ipython3",
   "version": "3.9.4"
  }
 },
 "nbformat": 4,
 "nbformat_minor": 5
}
